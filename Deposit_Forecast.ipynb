{
  "nbformat": 4,
  "nbformat_minor": 0,
  "metadata": {
    "colab": {
      "name": "Deposit Forecast",
      "provenance": [],
      "authorship_tag": "ABX9TyOU8DH3w/9NGqVUkh+PX4nE",
      "include_colab_link": true
    },
    "kernelspec": {
      "name": "python3",
      "display_name": "Python 3"
    }
  },
  "cells": [
    {
      "cell_type": "markdown",
      "metadata": {
        "id": "view-in-github",
        "colab_type": "text"
      },
      "source": [
        "<a href=\"https://colab.research.google.com/github/RajivShresth/scikit-learn-videos/blob/master/Deposit_Forecast.ipynb\" target=\"_parent\"><img src=\"https://colab.research.google.com/assets/colab-badge.svg\" alt=\"Open In Colab\"/></a>"
      ]
    },
    {
      "cell_type": "code",
      "metadata": {
        "id": "nZhbXiVjHEDl",
        "colab_type": "code",
        "colab": {}
      },
      "source": [
        "import pandas as pd\n",
        "import seaborn as sns\n",
        "%matplotlib inline  "
      ],
      "execution_count": 0,
      "outputs": []
    },
    {
      "cell_type": "code",
      "metadata": {
        "id": "uDR1j2nblErG",
        "colab_type": "code",
        "colab": {
          "base_uri": "https://localhost:8080/",
          "height": 34
        },
        "outputId": "3eb5a102-9e3c-4e9b-9e30-4e8ffce12941"
      },
      "source": [
        "from google.colab import drive\n",
        "drive.mount('/content/drive/')"
      ],
      "execution_count": 34,
      "outputs": [
        {
          "output_type": "stream",
          "text": [
            "Drive already mounted at /content/drive/; to attempt to forcibly remount, call drive.mount(\"/content/drive/\", force_remount=True).\n"
          ],
          "name": "stdout"
        }
      ]
    },
    {
      "cell_type": "code",
      "metadata": {
        "id": "qoGRe-PtnWJR",
        "colab_type": "code",
        "colab": {
          "base_uri": "https://localhost:8080/",
          "height": 221
        },
        "outputId": "ca86d18d-5ef8-4908-ec81-37b96fa50313"
      },
      "source": [
        "data = pd.read_excel(\"/content/drive/My Drive/Datasets for google colab/MacroEconomicData.xlsx\")\n",
        "data.head()"
      ],
      "execution_count": 35,
      "outputs": [
        {
          "output_type": "execute_result",
          "data": {
            "text/html": [
              "<div>\n",
              "<style scoped>\n",
              "    .dataframe tbody tr th:only-of-type {\n",
              "        vertical-align: middle;\n",
              "    }\n",
              "\n",
              "    .dataframe tbody tr th {\n",
              "        vertical-align: top;\n",
              "    }\n",
              "\n",
              "    .dataframe thead th {\n",
              "        text-align: right;\n",
              "    }\n",
              "</style>\n",
              "<table border=\"1\" class=\"dataframe\">\n",
              "  <thead>\n",
              "    <tr style=\"text-align: right;\">\n",
              "      <th></th>\n",
              "      <th>Year</th>\n",
              "      <th>Unemployment Rate</th>\n",
              "      <th>Inflation (%)</th>\n",
              "      <th>BOP (In Bn)</th>\n",
              "      <th>Remittance (In Bn)</th>\n",
              "      <th>Import (In Bn)</th>\n",
              "      <th>Export (In Bn)</th>\n",
              "      <th>Trade Deficit</th>\n",
              "      <th>Capital Expenditure(In Bn)</th>\n",
              "      <th>Total Risk Assets (In Bn)</th>\n",
              "      <th>Total Deposits (In Bn)</th>\n",
              "    </tr>\n",
              "  </thead>\n",
              "  <tbody>\n",
              "    <tr>\n",
              "      <th>0</th>\n",
              "      <td>2019</td>\n",
              "      <td>1.25</td>\n",
              "      <td>4.50</td>\n",
              "      <td>-67.40</td>\n",
              "      <td>829.384134</td>\n",
              "      <td>1418.000000</td>\n",
              "      <td>97.100000</td>\n",
              "      <td>-1320.900000</td>\n",
              "      <td>238.35600</td>\n",
              "      <td>2910.51100</td>\n",
              "      <td>3354.42800</td>\n",
              "    </tr>\n",
              "    <tr>\n",
              "      <th>1</th>\n",
              "      <td>2018</td>\n",
              "      <td>1.26</td>\n",
              "      <td>4.15</td>\n",
              "      <td>0.96</td>\n",
              "      <td>692.813401</td>\n",
              "      <td>1243.000000</td>\n",
              "      <td>81.000000</td>\n",
              "      <td>-1162.000000</td>\n",
              "      <td>270.71370</td>\n",
              "      <td>2419.84200</td>\n",
              "      <td>2836.93000</td>\n",
              "    </tr>\n",
              "    <tr>\n",
              "      <th>2</th>\n",
              "      <td>2017</td>\n",
              "      <td>3.20</td>\n",
              "      <td>4.45</td>\n",
              "      <td>82.00</td>\n",
              "      <td>661.183854</td>\n",
              "      <td>984.302948</td>\n",
              "      <td>73.036244</td>\n",
              "      <td>-911.266704</td>\n",
              "      <td>208.74843</td>\n",
              "      <td>1976.88000</td>\n",
              "      <td>2384.80700</td>\n",
              "    </tr>\n",
              "    <tr>\n",
              "      <th>3</th>\n",
              "      <td>2016</td>\n",
              "      <td>3.40</td>\n",
              "      <td>9.93</td>\n",
              "      <td>188.90</td>\n",
              "      <td>672.993567</td>\n",
              "      <td>774.712277</td>\n",
              "      <td>70.254165</td>\n",
              "      <td>-704.458112</td>\n",
              "      <td>123.25145</td>\n",
              "      <td>1669.20304</td>\n",
              "      <td>2107.50269</td>\n",
              "    </tr>\n",
              "    <tr>\n",
              "      <th>4</th>\n",
              "      <td>2015</td>\n",
              "      <td>3.20</td>\n",
              "      <td>7.21</td>\n",
              "      <td>145.00</td>\n",
              "      <td>588.865015</td>\n",
              "      <td>786.200000</td>\n",
              "      <td>85.200000</td>\n",
              "      <td>-701.000000</td>\n",
              "      <td>88.84351</td>\n",
              "      <td>1416.47841</td>\n",
              "      <td>1787.95925</td>\n",
              "    </tr>\n",
              "  </tbody>\n",
              "</table>\n",
              "</div>"
            ],
            "text/plain": [
              "   Year  Unemployment Rate  ...  Total Risk Assets (In Bn)  Total Deposits (In Bn)\n",
              "0  2019               1.25  ...                 2910.51100              3354.42800\n",
              "1  2018               1.26  ...                 2419.84200              2836.93000\n",
              "2  2017               3.20  ...                 1976.88000              2384.80700\n",
              "3  2016               3.40  ...                 1669.20304              2107.50269\n",
              "4  2015               3.20  ...                 1416.47841              1787.95925\n",
              "\n",
              "[5 rows x 11 columns]"
            ]
          },
          "metadata": {
            "tags": []
          },
          "execution_count": 35
        }
      ]
    },
    {
      "cell_type": "code",
      "metadata": {
        "id": "mst5NLP3no3P",
        "colab_type": "code",
        "colab": {
          "base_uri": "https://localhost:8080/",
          "height": 34
        },
        "outputId": "5fef5763-8a39-4f9a-8d48-5797d74695e7"
      },
      "source": [
        "data.shape"
      ],
      "execution_count": 36,
      "outputs": [
        {
          "output_type": "execute_result",
          "data": {
            "text/plain": [
              "(25, 11)"
            ]
          },
          "metadata": {
            "tags": []
          },
          "execution_count": 36
        }
      ]
    },
    {
      "cell_type": "code",
      "metadata": {
        "id": "c3Bx3hoon1sY",
        "colab_type": "code",
        "colab": {
          "base_uri": "https://localhost:8080/",
          "height": 221
        },
        "outputId": "a594fd53-c701-4dbf-dac5-065792acc972"
      },
      "source": [
        "data.isnull().sum()"
      ],
      "execution_count": 37,
      "outputs": [
        {
          "output_type": "execute_result",
          "data": {
            "text/plain": [
              "Year                          0\n",
              "Unemployment Rate             0\n",
              "Inflation (%)                 0\n",
              "BOP (In Bn)                   0\n",
              "Remittance (In Bn)            0\n",
              "Import (In Bn)                0\n",
              "Export (In Bn)                0\n",
              "Trade Deficit                 0\n",
              "Capital Expenditure(In Bn)    0\n",
              "Total Risk Assets (In Bn)     0\n",
              "Total Deposits (In Bn)        0\n",
              "dtype: int64"
            ]
          },
          "metadata": {
            "tags": []
          },
          "execution_count": 37
        }
      ]
    },
    {
      "cell_type": "code",
      "metadata": {
        "id": "KzHAIQWZpqyK",
        "colab_type": "code",
        "colab": {
          "base_uri": "https://localhost:8080/",
          "height": 221
        },
        "outputId": "fc12da04-54cf-4495-a6d2-71ecca008639"
      },
      "source": [
        "data.tail()"
      ],
      "execution_count": 38,
      "outputs": [
        {
          "output_type": "execute_result",
          "data": {
            "text/html": [
              "<div>\n",
              "<style scoped>\n",
              "    .dataframe tbody tr th:only-of-type {\n",
              "        vertical-align: middle;\n",
              "    }\n",
              "\n",
              "    .dataframe tbody tr th {\n",
              "        vertical-align: top;\n",
              "    }\n",
              "\n",
              "    .dataframe thead th {\n",
              "        text-align: right;\n",
              "    }\n",
              "</style>\n",
              "<table border=\"1\" class=\"dataframe\">\n",
              "  <thead>\n",
              "    <tr style=\"text-align: right;\">\n",
              "      <th></th>\n",
              "      <th>Year</th>\n",
              "      <th>Unemployment Rate</th>\n",
              "      <th>Inflation (%)</th>\n",
              "      <th>BOP (In Bn)</th>\n",
              "      <th>Remittance (In Bn)</th>\n",
              "      <th>Import (In Bn)</th>\n",
              "      <th>Export (In Bn)</th>\n",
              "      <th>Trade Deficit</th>\n",
              "      <th>Capital Expenditure(In Bn)</th>\n",
              "      <th>Total Risk Assets (In Bn)</th>\n",
              "      <th>Total Deposits (In Bn)</th>\n",
              "    </tr>\n",
              "  </thead>\n",
              "  <tbody>\n",
              "    <tr>\n",
              "      <th>20</th>\n",
              "      <td>1999</td>\n",
              "      <td>1.9</td>\n",
              "      <td>11.38</td>\n",
              "      <td>9.80</td>\n",
              "      <td>6.750490</td>\n",
              "      <td>87.5253</td>\n",
              "      <td>35.6763</td>\n",
              "      <td>-51.8490</td>\n",
              "      <td>22.9921</td>\n",
              "      <td>90.1244</td>\n",
              "      <td>136.1079</td>\n",
              "    </tr>\n",
              "    <tr>\n",
              "      <th>21</th>\n",
              "      <td>1998</td>\n",
              "      <td>3.1</td>\n",
              "      <td>8.33</td>\n",
              "      <td>11.00</td>\n",
              "      <td>4.945806</td>\n",
              "      <td>89.0020</td>\n",
              "      <td>27.5135</td>\n",
              "      <td>-61.4885</td>\n",
              "      <td>28.9439</td>\n",
              "      <td>74.8756</td>\n",
              "      <td>109.5537</td>\n",
              "    </tr>\n",
              "    <tr>\n",
              "      <th>22</th>\n",
              "      <td>1997</td>\n",
              "      <td>3.8</td>\n",
              "      <td>8.10</td>\n",
              "      <td>3.20</td>\n",
              "      <td>4.416013</td>\n",
              "      <td>93.5534</td>\n",
              "      <td>22.6365</td>\n",
              "      <td>-70.9169</td>\n",
              "      <td>26.5456</td>\n",
              "      <td>0.0000</td>\n",
              "      <td>0.0000</td>\n",
              "    </tr>\n",
              "    <tr>\n",
              "      <th>23</th>\n",
              "      <td>1996</td>\n",
              "      <td>4.5</td>\n",
              "      <td>7.18</td>\n",
              "      <td>-1.08</td>\n",
              "      <td>5.682267</td>\n",
              "      <td>74.4545</td>\n",
              "      <td>19.8811</td>\n",
              "      <td>-54.5734</td>\n",
              "      <td>24.9805</td>\n",
              "      <td>0.0000</td>\n",
              "      <td>0.0000</td>\n",
              "    </tr>\n",
              "    <tr>\n",
              "      <th>24</th>\n",
              "      <td>1995</td>\n",
              "      <td>3.2</td>\n",
              "      <td>7.68</td>\n",
              "      <td>-0.30</td>\n",
              "      <td>5.011852</td>\n",
              "      <td>63.6795</td>\n",
              "      <td>17.6392</td>\n",
              "      <td>-46.0403</td>\n",
              "      <td>19.7949</td>\n",
              "      <td>0.0000</td>\n",
              "      <td>0.0000</td>\n",
              "    </tr>\n",
              "  </tbody>\n",
              "</table>\n",
              "</div>"
            ],
            "text/plain": [
              "    Year  Unemployment Rate  ...  Total Risk Assets (In Bn)  Total Deposits (In Bn)\n",
              "20  1999                1.9  ...                    90.1244                136.1079\n",
              "21  1998                3.1  ...                    74.8756                109.5537\n",
              "22  1997                3.8  ...                     0.0000                  0.0000\n",
              "23  1996                4.5  ...                     0.0000                  0.0000\n",
              "24  1995                3.2  ...                     0.0000                  0.0000\n",
              "\n",
              "[5 rows x 11 columns]"
            ]
          },
          "metadata": {
            "tags": []
          },
          "execution_count": 38
        }
      ]
    },
    {
      "cell_type": "code",
      "metadata": {
        "id": "kIeQdsJXqBCU",
        "colab_type": "code",
        "colab": {}
      },
      "source": [
        "data.drop([22,23,24], inplace = True)"
      ],
      "execution_count": 0,
      "outputs": []
    },
    {
      "cell_type": "code",
      "metadata": {
        "id": "3hQjKrzjq4sq",
        "colab_type": "code",
        "colab": {
          "base_uri": "https://localhost:8080/",
          "height": 224
        },
        "outputId": "be245afb-6561-4365-b102-aa6d0bb95d46"
      },
      "source": [
        "%matplotlib inline\n",
        "sns.pairplot(data, x_vars =['Unemployment Rate','Inflation (%)','BOP (In Bn)','Remittance (In Bn)','Import (In Bn)','Export (In Bn)'], y_vars = 'Total Deposits (In Bn)', height =2.5,\n",
        "             kind = 'reg')"
      ],
      "execution_count": 41,
      "outputs": [
        {
          "output_type": "execute_result",
          "data": {
            "text/plain": [
              "<seaborn.axisgrid.PairGrid at 0x7feb28d60128>"
            ]
          },
          "metadata": {
            "tags": []
          },
          "execution_count": 41
        },
        {
          "output_type": "display_data",
          "data": {
            "image/png": "[encoded data removed]",
            "text/plain": [
              "<Figure size 1080x180 with 6 Axes>"
            ]
          },
          "metadata": {
            "tags": [],
            "needs_background": "light"
          }
        }
      ]
    },
    {
      "cell_type": "code",
      "metadata": {
        "id": "3tQhxm20qZ-H",
        "colab_type": "code",
        "colab": {
          "base_uri": "https://localhost:8080/",
          "height": 221
        },
        "outputId": "505a9844-ebcb-4d51-8925-9af0392d5b05"
      },
      "source": [
        "data.tail()"
      ],
      "execution_count": 40,
      "outputs": [
        {
          "output_type": "execute_result",
          "data": {
            "text/html": [
              "<div>\n",
              "<style scoped>\n",
              "    .dataframe tbody tr th:only-of-type {\n",
              "        vertical-align: middle;\n",
              "    }\n",
              "\n",
              "    .dataframe tbody tr th {\n",
              "        vertical-align: top;\n",
              "    }\n",
              "\n",
              "    .dataframe thead th {\n",
              "        text-align: right;\n",
              "    }\n",
              "</style>\n",
              "<table border=\"1\" class=\"dataframe\">\n",
              "  <thead>\n",
              "    <tr style=\"text-align: right;\">\n",
              "      <th></th>\n",
              "      <th>Year</th>\n",
              "      <th>Unemployment Rate</th>\n",
              "      <th>Inflation (%)</th>\n",
              "      <th>BOP (In Bn)</th>\n",
              "      <th>Remittance (In Bn)</th>\n",
              "      <th>Import (In Bn)</th>\n",
              "      <th>Export (In Bn)</th>\n",
              "      <th>Trade Deficit</th>\n",
              "      <th>Capital Expenditure(In Bn)</th>\n",
              "      <th>Total Risk Assets (In Bn)</th>\n",
              "      <th>Total Deposits (In Bn)</th>\n",
              "    </tr>\n",
              "  </thead>\n",
              "  <tbody>\n",
              "    <tr>\n",
              "      <th>17</th>\n",
              "      <td>2002</td>\n",
              "      <td>2.9</td>\n",
              "      <td>2.90</td>\n",
              "      <td>-3.30</td>\n",
              "      <td>14.698515</td>\n",
              "      <td>107.3890</td>\n",
              "      <td>46.9448</td>\n",
              "      <td>-60.4442</td>\n",
              "      <td>23.0956</td>\n",
              "      <td>148.2907</td>\n",
              "      <td>205.1353</td>\n",
              "    </tr>\n",
              "    <tr>\n",
              "      <th>18</th>\n",
              "      <td>2001</td>\n",
              "      <td>3.8</td>\n",
              "      <td>2.44</td>\n",
              "      <td>5.22</td>\n",
              "      <td>11.149819</td>\n",
              "      <td>115.6872</td>\n",
              "      <td>55.6541</td>\n",
              "      <td>-60.0331</td>\n",
              "      <td>28.3072</td>\n",
              "      <td>124.0489</td>\n",
              "      <td>197.3256</td>\n",
              "    </tr>\n",
              "    <tr>\n",
              "      <th>19</th>\n",
              "      <td>2000</td>\n",
              "      <td>2.0</td>\n",
              "      <td>3.39</td>\n",
              "      <td>14.44</td>\n",
              "      <td>8.346278</td>\n",
              "      <td>108.5049</td>\n",
              "      <td>49.8227</td>\n",
              "      <td>-58.6822</td>\n",
              "      <td>25.4807</td>\n",
              "      <td>106.9960</td>\n",
              "      <td>165.9819</td>\n",
              "    </tr>\n",
              "    <tr>\n",
              "      <th>20</th>\n",
              "      <td>1999</td>\n",
              "      <td>1.9</td>\n",
              "      <td>11.38</td>\n",
              "      <td>9.80</td>\n",
              "      <td>6.750490</td>\n",
              "      <td>87.5253</td>\n",
              "      <td>35.6763</td>\n",
              "      <td>-51.8490</td>\n",
              "      <td>22.9921</td>\n",
              "      <td>90.1244</td>\n",
              "      <td>136.1079</td>\n",
              "    </tr>\n",
              "    <tr>\n",
              "      <th>21</th>\n",
              "      <td>1998</td>\n",
              "      <td>3.1</td>\n",
              "      <td>8.33</td>\n",
              "      <td>11.00</td>\n",
              "      <td>4.945806</td>\n",
              "      <td>89.0020</td>\n",
              "      <td>27.5135</td>\n",
              "      <td>-61.4885</td>\n",
              "      <td>28.9439</td>\n",
              "      <td>74.8756</td>\n",
              "      <td>109.5537</td>\n",
              "    </tr>\n",
              "  </tbody>\n",
              "</table>\n",
              "</div>"
            ],
            "text/plain": [
              "    Year  Unemployment Rate  ...  Total Risk Assets (In Bn)  Total Deposits (In Bn)\n",
              "17  2002                2.9  ...                   148.2907                205.1353\n",
              "18  2001                3.8  ...                   124.0489                197.3256\n",
              "19  2000                2.0  ...                   106.9960                165.9819\n",
              "20  1999                1.9  ...                    90.1244                136.1079\n",
              "21  1998                3.1  ...                    74.8756                109.5537\n",
              "\n",
              "[5 rows x 11 columns]"
            ]
          },
          "metadata": {
            "tags": []
          },
          "execution_count": 40
        }
      ]
    },
    {
      "cell_type": "code",
      "metadata": {
        "id": "K7z7s6WETQi2",
        "colab_type": "code",
        "colab": {
          "base_uri": "https://localhost:8080/",
          "height": 332
        },
        "outputId": "c8d9d090-662c-44b6-a672-f676fc277c7a"
      },
      "source": [
        "sns.pairplot(data, x_vars = ['Trade Deficit','Capital Expenditure(In Bn)'], y_vars ='Total Deposits (In Bn)', height = 4, kind = 'reg')"
      ],
      "execution_count": 43,
      "outputs": [
        {
          "output_type": "execute_result",
          "data": {
            "text/plain": [
              "<seaborn.axisgrid.PairGrid at 0x7feb28af66d8>"
            ]
          },
          "metadata": {
            "tags": []
          },
          "execution_count": 43
        },
        {
          "output_type": "display_data",
          "data": {
            "image/png": "[encoded data removed]",
            "text/plain": [
              "<Figure size 576x288 with 2 Axes>"
            ]
          },
          "metadata": {
            "tags": [],
            "needs_background": "light"
          }
        }
      ]
    },
    {
      "cell_type": "code",
      "metadata": {
        "id": "fMUE2rfbUB1H",
        "colab_type": "code",
        "colab": {
          "base_uri": "https://localhost:8080/",
          "height": 204
        },
        "outputId": "f72f6ca8-54c6-4997-d3bd-a488574a5441"
      },
      "source": [
        "feature_cols = ['Remittance (In Bn)','Import (In Bn)']\n",
        "X = data[feature_cols]\n",
        "X.head()"
      ],
      "execution_count": 45,
      "outputs": [
        {
          "output_type": "execute_result",
          "data": {
            "text/html": [
              "<div>\n",
              "<style scoped>\n",
              "    .dataframe tbody tr th:only-of-type {\n",
              "        vertical-align: middle;\n",
              "    }\n",
              "\n",
              "    .dataframe tbody tr th {\n",
              "        vertical-align: top;\n",
              "    }\n",
              "\n",
              "    .dataframe thead th {\n",
              "        text-align: right;\n",
              "    }\n",
              "</style>\n",
              "<table border=\"1\" class=\"dataframe\">\n",
              "  <thead>\n",
              "    <tr style=\"text-align: right;\">\n",
              "      <th></th>\n",
              "      <th>Remittance (In Bn)</th>\n",
              "      <th>Import (In Bn)</th>\n",
              "    </tr>\n",
              "  </thead>\n",
              "  <tbody>\n",
              "    <tr>\n",
              "      <th>0</th>\n",
              "      <td>829.384134</td>\n",
              "      <td>1418.000000</td>\n",
              "    </tr>\n",
              "    <tr>\n",
              "      <th>1</th>\n",
              "      <td>692.813401</td>\n",
              "      <td>1243.000000</td>\n",
              "    </tr>\n",
              "    <tr>\n",
              "      <th>2</th>\n",
              "      <td>661.183854</td>\n",
              "      <td>984.302948</td>\n",
              "    </tr>\n",
              "    <tr>\n",
              "      <th>3</th>\n",
              "      <td>672.993567</td>\n",
              "      <td>774.712277</td>\n",
              "    </tr>\n",
              "    <tr>\n",
              "      <th>4</th>\n",
              "      <td>588.865015</td>\n",
              "      <td>786.200000</td>\n",
              "    </tr>\n",
              "  </tbody>\n",
              "</table>\n",
              "</div>"
            ],
            "text/plain": [
              "   Remittance (In Bn)  Import (In Bn)\n",
              "0          829.384134     1418.000000\n",
              "1          692.813401     1243.000000\n",
              "2          661.183854      984.302948\n",
              "3          672.993567      774.712277\n",
              "4          588.865015      786.200000"
            ]
          },
          "metadata": {
            "tags": []
          },
          "execution_count": 45
        }
      ]
    },
    {
      "cell_type": "code",
      "metadata": {
        "id": "KOZnsvTyU_4l",
        "colab_type": "code",
        "colab": {
          "base_uri": "https://localhost:8080/",
          "height": 119
        },
        "outputId": "60be5f06-8ed6-4fd0-a47c-5f5ee522ca66"
      },
      "source": [
        "y = data['Total Deposits (In Bn)']\n",
        "y.head()"
      ],
      "execution_count": 47,
      "outputs": [
        {
          "output_type": "execute_result",
          "data": {
            "text/plain": [
              "0    3354.42800\n",
              "1    2836.93000\n",
              "2    2384.80700\n",
              "3    2107.50269\n",
              "4    1787.95925\n",
              "Name: Total Deposits (In Bn), dtype: float64"
            ]
          },
          "metadata": {
            "tags": []
          },
          "execution_count": 47
        }
      ]
    },
    {
      "cell_type": "code",
      "metadata": {
        "id": "NXnImWzVVSnW",
        "colab_type": "code",
        "colab": {}
      },
      "source": [
        "from sklearn.model_selection import train_test_split\n",
        "X_train, X_test, y_train, y_test = train_test_split(X, y, random_state = 1)\n"
      ],
      "execution_count": 0,
      "outputs": []
    },
    {
      "cell_type": "code",
      "metadata": {
        "id": "5xAIqK9RV4MQ",
        "colab_type": "code",
        "colab": {
          "base_uri": "https://localhost:8080/",
          "height": 85
        },
        "outputId": "84de0910-8599-4eb3-f08b-8799afca26d9"
      },
      "source": [
        "print(X_train.shape)\n",
        "print(y_train.shape)\n",
        "print(X_test.shape)\n",
        "print(y_test.shape)"
      ],
      "execution_count": 49,
      "outputs": [
        {
          "output_type": "stream",
          "text": [
            "(16, 2)\n",
            "(16,)\n",
            "(6, 2)\n",
            "(6,)\n"
          ],
          "name": "stdout"
        }
      ]
    },
    {
      "cell_type": "code",
      "metadata": {
        "id": "tzWhinFkWiZC",
        "colab_type": "code",
        "colab": {
          "base_uri": "https://localhost:8080/",
          "height": 34
        },
        "outputId": "43463ae6-e348-4123-8d39-640379822e52"
      },
      "source": [
        "from sklearn.linear_model import LinearRegression\n",
        "linreg = LinearRegression()\n",
        "linreg.fit(X_train, y_train)"
      ],
      "execution_count": 57,
      "outputs": [
        {
          "output_type": "execute_result",
          "data": {
            "text/plain": [
              "LinearRegression(copy_X=True, fit_intercept=True, n_jobs=None, normalize=False)"
            ]
          },
          "metadata": {
            "tags": []
          },
          "execution_count": 57
        }
      ]
    },
    {
      "cell_type": "code",
      "metadata": {
        "id": "C2sU1W5kYk4f",
        "colab_type": "code",
        "colab": {
          "base_uri": "https://localhost:8080/",
          "height": 51
        },
        "outputId": "6aa0451b-9169-4e91-e750-1cb00e38c025"
      },
      "source": [
        "print(linreg.intercept_)\n",
        "print(linreg.coef_)"
      ],
      "execution_count": 55,
      "outputs": [
        {
          "output_type": "stream",
          "text": [
            "-76.3777571516132\n",
            "[-0.2161608   2.51546926]\n"
          ],
          "name": "stdout"
        }
      ]
    },
    {
      "cell_type": "code",
      "metadata": {
        "id": "NicbAFC-Z-Xe",
        "colab_type": "code",
        "colab": {
          "base_uri": "https://localhost:8080/",
          "height": 170
        },
        "outputId": "60ff3020-90e9-4c46-c074-8e64befaec09"
      },
      "source": [
        "y_pred = linreg.predict(X_test)\n",
        "print(y_pred)\n",
        "print(y_test)"
      ],
      "execution_count": 61,
      "outputs": [
        {
          "output_type": "stream",
          "text": [
            "[ 194.75884565  221.7599228  1726.91233419  334.56637745  212.21968483\n",
            "  249.05850576]\n",
            "19     165.98190\n",
            "16     228.73640\n",
            "3     2107.50269\n",
            "13     327.92528\n",
            "18     197.32560\n",
            "15     258.74230\n",
            "Name: Total Deposits (In Bn), dtype: float64\n"
          ],
          "name": "stdout"
        }
      ]
    },
    {
      "cell_type": "code",
      "metadata": {
        "id": "AeCxs2F_asC-",
        "colab_type": "code",
        "colab": {
          "base_uri": "https://localhost:8080/",
          "height": 51
        },
        "outputId": "8159d7ae-2c3c-4b66-f081-ed25722533d2"
      },
      "source": [
        "from sklearn import metrics\n",
        "print(metrics.mean_squared_error(y_test, y_pred))\n",
        "print(metrics.mean_absolute_error(y_test, y_pred))"
      ],
      "execution_count": 65,
      "outputs": [
        {
          "output_type": "stream",
          "text": [
            "24347.586096182422\n",
            "74.59379253189414\n"
          ],
          "name": "stdout"
        }
      ]
    },
    {
      "cell_type": "code",
      "metadata": {
        "id": "0MkxJEnEdDo-",
        "colab_type": "code",
        "colab": {
          "base_uri": "https://localhost:8080/",
          "height": 80
        },
        "outputId": "27312653-82e5-4553-ac99-c6299b9471ac"
      },
      "source": [
        "df = {'Remittance (In Bn)' : [900], 'Import (In Bn)' :[1500] }\n",
        "dfNew = pd.DataFrame.from_dict(df)\n",
        "dfNew.head()"
      ],
      "execution_count": 76,
      "outputs": [
        {
          "output_type": "execute_result",
          "data": {
            "text/html": [
              "<div>\n",
              "<style scoped>\n",
              "    .dataframe tbody tr th:only-of-type {\n",
              "        vertical-align: middle;\n",
              "    }\n",
              "\n",
              "    .dataframe tbody tr th {\n",
              "        vertical-align: top;\n",
              "    }\n",
              "\n",
              "    .dataframe thead th {\n",
              "        text-align: right;\n",
              "    }\n",
              "</style>\n",
              "<table border=\"1\" class=\"dataframe\">\n",
              "  <thead>\n",
              "    <tr style=\"text-align: right;\">\n",
              "      <th></th>\n",
              "      <th>Remittance (In Bn)</th>\n",
              "      <th>Import (In Bn)</th>\n",
              "    </tr>\n",
              "  </thead>\n",
              "  <tbody>\n",
              "    <tr>\n",
              "      <th>0</th>\n",
              "      <td>900</td>\n",
              "      <td>1500</td>\n",
              "    </tr>\n",
              "  </tbody>\n",
              "</table>\n",
              "</div>"
            ],
            "text/plain": [
              "   Remittance (In Bn)  Import (In Bn)\n",
              "0                 900            1500"
            ]
          },
          "metadata": {
            "tags": []
          },
          "execution_count": 76
        }
      ]
    },
    {
      "cell_type": "code",
      "metadata": {
        "id": "a5cGO7rWfgKQ",
        "colab_type": "code",
        "colab": {
          "base_uri": "https://localhost:8080/",
          "height": 34
        },
        "outputId": "9841805b-9b74-4a46-a4a8-f987d099ce00"
      },
      "source": [
        "dfNew_pred = linreg.predict(dfNew)\n",
        "print(dfNew_pred)"
      ],
      "execution_count": 77,
      "outputs": [
        {
          "output_type": "stream",
          "text": [
            "[3502.2814162]\n"
          ],
          "name": "stdout"
        }
      ]
    }
  ]
}